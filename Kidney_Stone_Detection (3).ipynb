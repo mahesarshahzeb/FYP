{
  "nbformat": 4,
  "nbformat_minor": 0,
  "metadata": {
    "accelerator": "GPU",
    "colab": {
      "name": "Kidney Stone Detection.ipynb",
      "provenance": [],
      "collapsed_sections": [],
      "toc_visible": true
    },
    "kernelspec": {
      "display_name": "Python 3",
      "language": "python",
      "name": "python3"
    },
    "language_info": {
      "codemirror_mode": {
        "name": "ipython",
        "version": 3
      },
      "file_extension": ".py",
      "mimetype": "text/x-python",
      "name": "python",
      "nbconvert_exporter": "python",
      "pygments_lexer": "ipython3",
      "version": "3.7.6"
    },
    "papermill": {
      "duration": 2033.023007,
      "end_time": "2021-01-08T12:37:21.696719",
      "environment_variables": {},
      "exception": null,
      "input_path": "__notebook__.ipynb",
      "output_path": "__notebook__.ipynb",
      "parameters": {},
      "start_time": "2021-01-08T12:03:28.673712",
      "version": "2.1.0"
    }
  },
  "cells": [
    {
      "cell_type": "markdown",
      "metadata": {
        "id": "D37nYdI2Gw9X"
      },
      "source": [
        "# Importing libraries"
      ]
    },
    {
      "cell_type": "code",
      "metadata": {
        "id": "WkuJgsZ2Gw9h"
      },
      "source": [
        "import os, shutil\n",
        "import numpy as np\n",
        "import pandas as pd\n",
        "\n",
        "from keras.models import Sequential\n",
        "from keras.layers import Conv2D\n",
        "from keras.layers import MaxPooling2D\n",
        "from keras.layers import GlobalAveragePooling2D\n",
        "from keras.layers import Dense\n",
        "from keras.layers import Flatten\n",
        "from keras.layers import Dropout\n",
        "from keras import optimizers\n",
        "from keras.preprocessing.image import ImageDataGenerator\n",
        "from PIL import Image, ImageEnhance\n",
        "import cv2\n",
        "import math\n",
        "import sklearn.metrics as metrics\n",
        "\n",
        "\n",
        "from keras.utils import to_categorical\n",
        "\n",
        "from PIL import ImageFile\n",
        "ImageFile.LOAD_TRUNCATED_IMAGES = True\n",
        "\n",
        "import matplotlib.pyplot as plt\n",
        "\n",
        "%matplotlib inline"
      ],
      "execution_count": 28,
      "outputs": []
    },
    {
      "cell_type": "code",
      "metadata": {
        "colab": {
          "base_uri": "https://localhost:8080/"
        },
        "id": "jdepSsKZG789",
        "outputId": "39643c61-e4bd-4bb0-9687-09ef6c64a130"
      },
      "source": [
        "from google.colab import drive\n",
        "drive.mount('/content/drive')"
      ],
      "execution_count": 8,
      "outputs": [
        {
          "output_type": "stream",
          "text": [
            "Mounted at /content/drive\n"
          ],
          "name": "stdout"
        }
      ]
    },
    {
      "cell_type": "markdown",
      "metadata": {
        "id": "iAAhN67WGw9i"
      },
      "source": [
        "# Training, Testing and Validation Data"
      ]
    },
    {
      "cell_type": "code",
      "metadata": {
        "id": "yb0MxtdmGw9i"
      },
      "source": [
        "base_dir = '/content/drive/MyDrive/Colab Notebooks/Datasets/Image Dataset'\n",
        "train_dir = os.path.join(base_dir, 'Train/')\n",
        "test_dir = os.path.join(base_dir, 'Test/')\n",
        "valid_dir = os.path.join(base_dir, 'Validation/')"
      ],
      "execution_count": 9,
      "outputs": []
    },
    {
      "cell_type": "markdown",
      "metadata": {
        "id": "8Be14PoEGw9j"
      },
      "source": [
        "# Defining Generators for loading the Data"
      ]
    },
    {
      "cell_type": "code",
      "metadata": {
        "colab": {
          "base_uri": "https://localhost:8080/"
        },
        "id": "ANkM_76fGw9j",
        "outputId": "f8e1ede8-24ef-4056-9e1a-84a758d9ef43"
      },
      "source": [
        "train_datagen = ImageDataGenerator(rescale=1./255,\n",
        "                                  rotation_range=10,\n",
        "                                  horizontal_flip=True,\n",
        "                                  )\n",
        "test_datagen = ImageDataGenerator(rescale=1./255)\n",
        "\n",
        "target_size = (200, 200)\n",
        "batch_size = 20\n",
        "\n",
        "train_generator = train_datagen.flow_from_directory(train_dir,\n",
        "                                                   target_size = target_size,\n",
        "                                                   batch_size = batch_size,\n",
        "                                                   class_mode ='binary')\n",
        "test_generator = test_datagen.flow_from_directory(test_dir,\n",
        "                                                 target_size = target_size,\n",
        "                                                 batch_size = batch_size,\n",
        "                                                 class_mode ='binary')\n",
        "\n",
        "validation_generator = test_datagen.flow_from_directory(valid_dir,\n",
        "                                                       target_size = target_size,\n",
        "                                                       batch_size = batch_size,\n",
        "                                                       class_mode = 'binary')\n"
      ],
      "execution_count": 10,
      "outputs": [
        {
          "output_type": "stream",
          "text": [
            "Found 4000 images belonging to 2 classes.\n",
            "Found 249 images belonging to 2 classes.\n",
            "Found 400 images belonging to 2 classes.\n"
          ],
          "name": "stdout"
        }
      ]
    },
    {
      "cell_type": "markdown",
      "metadata": {
        "id": "j03ClGfYGw9l"
      },
      "source": [
        "# Class Labels"
      ]
    },
    {
      "cell_type": "code",
      "metadata": {
        "colab": {
          "base_uri": "https://localhost:8080/"
        },
        "id": "Bk8PSIB_Gw9l",
        "outputId": "e3fe10fb-7732-4757-c36c-0555fc6d9131"
      },
      "source": [
        "classes = []\n",
        "for directory in os.listdir(train_dir):\n",
        "    classes.append(directory.split('.')[-1])\n",
        "for class_ in classes:\n",
        "    print(class_)"
      ],
      "execution_count": 11,
      "outputs": [
        {
          "output_type": "stream",
          "text": [
            "Normal_aug\n",
            "Stone_aug\n"
          ],
          "name": "stdout"
        }
      ]
    },
    {
      "cell_type": "markdown",
      "metadata": {
        "id": "XTeBzNPgGw9m"
      },
      "source": [
        "## Batch Size"
      ]
    },
    {
      "cell_type": "code",
      "metadata": {
        "colab": {
          "base_uri": "https://localhost:8080/"
        },
        "id": "OuQhkFYkGw9m",
        "outputId": "6e5d7441-ea72-4106-d841-b9b38368be0e"
      },
      "source": [
        "for data_batch, labels_batch in train_generator:\n",
        "    print(data_batch.shape)\n",
        "    print(labels_batch.shape)\n",
        "    break"
      ],
      "execution_count": 12,
      "outputs": [
        {
          "output_type": "stream",
          "text": [
            "(20, 200, 200, 3)\n",
            "(20,)\n"
          ],
          "name": "stdout"
        }
      ]
    },
    {
      "cell_type": "code",
      "metadata": {
        "colab": {
          "base_uri": "https://localhost:8080/"
        },
        "id": "wak7iejiGw9n",
        "outputId": "1d3ce3e9-bd68-4a81-aea7-14ffd75225f2"
      },
      "source": [
        "print(len(train_generator))\n",
        "print(len(test_generator))\n",
        "print(len(validation_generator))"
      ],
      "execution_count": 13,
      "outputs": [
        {
          "output_type": "stream",
          "text": [
            "200\n",
            "13\n",
            "20\n"
          ],
          "name": "stdout"
        }
      ]
    },
    {
      "cell_type": "code",
      "metadata": {
        "id": "iYBZWlp7Gw9o"
      },
      "source": [
        "input_shape = (200, 200, 3)"
      ],
      "execution_count": 15,
      "outputs": []
    },
    {
      "cell_type": "markdown",
      "metadata": {
        "id": "56uCvtzjGw9o"
      },
      "source": [
        "# Model Architecture"
      ]
    },
    {
      "cell_type": "code",
      "metadata": {
        "colab": {
          "base_uri": "https://localhost:8080/"
        },
        "id": "8sQPFBYiGw9o",
        "outputId": "9d5b915a-f3db-4894-8cc5-1147d4b3a95d"
      },
      "source": [
        "model = Sequential()\n",
        "model.add(Conv2D(32, (3, 3), activation='relu', input_shape = input_shape))\n",
        "model.add(MaxPooling2D((2, 2)))\n",
        "\n",
        "model.add(Conv2D(64, (3, 3), activation='relu'))\n",
        "model.add(MaxPooling2D((2, 2)))\n",
        "model.add(Conv2D(128, (3, 3), activation='relu'))\n",
        "model.add(MaxPooling2D((2, 2)))\n",
        "model.add(Conv2D(128, (3, 3), activation='relu'))\n",
        "model.add(MaxPooling2D((2, 2)))\n",
        "model.add(Flatten())\n",
        "model.add(Dropout(0.5))\n",
        "model.add(Dense(512, activation='relu'))\n",
        "model.add(Dense(1, activation='sigmoid'))\n",
        "\n",
        "model.summary()\n"
      ],
      "execution_count": 16,
      "outputs": [
        {
          "output_type": "stream",
          "text": [
            "Model: \"sequential_1\"\n",
            "_________________________________________________________________\n",
            "Layer (type)                 Output Shape              Param #   \n",
            "=================================================================\n",
            "conv2d (Conv2D)              (None, 198, 198, 32)      896       \n",
            "_________________________________________________________________\n",
            "max_pooling2d (MaxPooling2D) (None, 99, 99, 32)        0         \n",
            "_________________________________________________________________\n",
            "conv2d_1 (Conv2D)            (None, 97, 97, 64)        18496     \n",
            "_________________________________________________________________\n",
            "max_pooling2d_1 (MaxPooling2 (None, 48, 48, 64)        0         \n",
            "_________________________________________________________________\n",
            "conv2d_2 (Conv2D)            (None, 46, 46, 128)       73856     \n",
            "_________________________________________________________________\n",
            "max_pooling2d_2 (MaxPooling2 (None, 23, 23, 128)       0         \n",
            "_________________________________________________________________\n",
            "conv2d_3 (Conv2D)            (None, 21, 21, 128)       147584    \n",
            "_________________________________________________________________\n",
            "max_pooling2d_3 (MaxPooling2 (None, 10, 10, 128)       0         \n",
            "_________________________________________________________________\n",
            "flatten (Flatten)            (None, 12800)             0         \n",
            "_________________________________________________________________\n",
            "dropout (Dropout)            (None, 12800)             0         \n",
            "_________________________________________________________________\n",
            "dense (Dense)                (None, 512)               6554112   \n",
            "_________________________________________________________________\n",
            "dense_1 (Dense)              (None, 1)                 513       \n",
            "=================================================================\n",
            "Total params: 6,795,457\n",
            "Trainable params: 6,795,457\n",
            "Non-trainable params: 0\n",
            "_________________________________________________________________\n"
          ],
          "name": "stdout"
        }
      ]
    },
    {
      "cell_type": "code",
      "metadata": {
        "id": "vJnpmS8WGw9p"
      },
      "source": [
        "model.compile(loss='binary_crossentropy',\n",
        "             optimizer=optimizers.RMSprop(lr=1e-4),\n",
        "             metrics=['acc'])"
      ],
      "execution_count": 17,
      "outputs": []
    },
    {
      "cell_type": "code",
      "metadata": {
        "colab": {
          "base_uri": "https://localhost:8080/"
        },
        "id": "Ji0WK0GdGw9p",
        "outputId": "65f24bd7-e516-4d0c-c1d1-c8cc50a85495"
      },
      "source": [
        "history = model.fit_generator(train_generator,\n",
        "                            steps_per_epoch=200, \n",
        "                            epochs=20,\n",
        "                            validation_data=validation_generator,\n",
        "                            validation_steps=20) "
      ],
      "execution_count": 18,
      "outputs": [
        {
          "output_type": "stream",
          "text": [
            "/usr/local/lib/python3.7/dist-packages/tensorflow/python/keras/engine/training.py:1844: UserWarning: `Model.fit_generator` is deprecated and will be removed in a future version. Please use `Model.fit`, which supports generators.\n",
            "  warnings.warn('`Model.fit_generator` is deprecated and '\n"
          ],
          "name": "stderr"
        },
        {
          "output_type": "stream",
          "text": [
            "Epoch 1/20\n",
            "200/200 [==============================] - 1700s 8s/step - loss: 0.6524 - acc: 0.5902 - val_loss: 0.5643 - val_acc: 0.7325\n",
            "Epoch 2/20\n",
            "200/200 [==============================] - 68s 337ms/step - loss: 0.5695 - acc: 0.6890 - val_loss: 0.6353 - val_acc: 0.7050\n",
            "Epoch 3/20\n",
            "200/200 [==============================] - 67s 337ms/step - loss: 0.5368 - acc: 0.7099 - val_loss: 0.4950 - val_acc: 0.7550\n",
            "Epoch 4/20\n",
            "200/200 [==============================] - 67s 337ms/step - loss: 0.5060 - acc: 0.7188 - val_loss: 0.4474 - val_acc: 0.7675\n",
            "Epoch 5/20\n",
            "200/200 [==============================] - 68s 338ms/step - loss: 0.4560 - acc: 0.7628 - val_loss: 0.4202 - val_acc: 0.7750\n",
            "Epoch 6/20\n",
            "200/200 [==============================] - 68s 338ms/step - loss: 0.4347 - acc: 0.7745 - val_loss: 0.3614 - val_acc: 0.7875\n",
            "Epoch 7/20\n",
            "200/200 [==============================] - 68s 337ms/step - loss: 0.4004 - acc: 0.8016 - val_loss: 0.3362 - val_acc: 0.8275\n",
            "Epoch 8/20\n",
            "200/200 [==============================] - 67s 336ms/step - loss: 0.3782 - acc: 0.8133 - val_loss: 0.3084 - val_acc: 0.8625\n",
            "Epoch 9/20\n",
            "200/200 [==============================] - 67s 337ms/step - loss: 0.3637 - acc: 0.8279 - val_loss: 0.3158 - val_acc: 0.8575\n",
            "Epoch 10/20\n",
            "200/200 [==============================] - 67s 337ms/step - loss: 0.3356 - acc: 0.8386 - val_loss: 0.2547 - val_acc: 0.8675\n",
            "Epoch 11/20\n",
            "200/200 [==============================] - 67s 337ms/step - loss: 0.3316 - acc: 0.8299 - val_loss: 0.2617 - val_acc: 0.8500\n",
            "Epoch 12/20\n",
            "200/200 [==============================] - 68s 338ms/step - loss: 0.3044 - acc: 0.8516 - val_loss: 0.2384 - val_acc: 0.8650\n",
            "Epoch 13/20\n",
            "200/200 [==============================] - 67s 336ms/step - loss: 0.2802 - acc: 0.8610 - val_loss: 0.2279 - val_acc: 0.8800\n",
            "Epoch 14/20\n",
            "200/200 [==============================] - 68s 338ms/step - loss: 0.2866 - acc: 0.8543 - val_loss: 0.2590 - val_acc: 0.8475\n",
            "Epoch 15/20\n",
            "200/200 [==============================] - 67s 337ms/step - loss: 0.2788 - acc: 0.8721 - val_loss: 0.1874 - val_acc: 0.9100\n",
            "Epoch 16/20\n",
            "200/200 [==============================] - 67s 337ms/step - loss: 0.2609 - acc: 0.8648 - val_loss: 0.1670 - val_acc: 0.9150\n",
            "Epoch 17/20\n",
            "200/200 [==============================] - 67s 337ms/step - loss: 0.2357 - acc: 0.8758 - val_loss: 0.2111 - val_acc: 0.9050\n",
            "Epoch 18/20\n",
            "200/200 [==============================] - 68s 339ms/step - loss: 0.2524 - acc: 0.8723 - val_loss: 0.1625 - val_acc: 0.9150\n",
            "Epoch 19/20\n",
            "200/200 [==============================] - 68s 341ms/step - loss: 0.2399 - acc: 0.8723 - val_loss: 0.1659 - val_acc: 0.9200\n",
            "Epoch 20/20\n",
            "200/200 [==============================] - 68s 338ms/step - loss: 0.2285 - acc: 0.8840 - val_loss: 0.2076 - val_acc: 0.9000\n"
          ],
          "name": "stdout"
        }
      ]
    },
    {
      "cell_type": "markdown",
      "metadata": {
        "id": "B--Y2JWfGw9q"
      },
      "source": [
        "## Save the trained model"
      ]
    },
    {
      "cell_type": "code",
      "metadata": {
        "id": "NsMRWKzhGw9q"
      },
      "source": [
        "model.save('/content/drive/MyDrive/Colab Notebooks/Datasets/Image Dataset/model.h5')"
      ],
      "execution_count": 19,
      "outputs": []
    },
    {
      "cell_type": "markdown",
      "metadata": {
        "id": "siAKOlNPGw9q"
      },
      "source": [
        "# Looking at the Training Process"
      ]
    },
    {
      "cell_type": "code",
      "metadata": {
        "colab": {
          "base_uri": "https://localhost:8080/",
          "height": 545
        },
        "id": "LH-zI8mjGw9q",
        "outputId": "5713aeb4-aa9d-4f39-a2b0-efd827cb1ea5"
      },
      "source": [
        "acc = history.history['acc']\n",
        "val_acc = history.history['val_acc']\n",
        "loss = history.history['loss']\n",
        "val_loss = history.history['val_loss']\n",
        "epochs = range(1, len(acc) + 1)\n",
        "plt.plot(epochs, acc, 'bo', label='Training acc')\n",
        "plt.plot(epochs, val_acc, 'b', label='Validation acc')\n",
        "plt.title('Training and validation accuracy')\n",
        "plt.legend()\n",
        "plt.figure()\n",
        "plt.plot(epochs, loss, 'bo', label='Training loss')\n",
        "plt.plot(epochs, val_loss, 'b', label='Validation loss')\n",
        "plt.title('Training and validation loss')\n",
        "plt.legend()\n",
        "plt.show()"
      ],
      "execution_count": 20,
      "outputs": [
        {
          "output_type": "display_data",
          "data": {
            "image/png": "[encoded data removed]",
            "text/plain": [
              "<Figure size 432x288 with 1 Axes>"
            ]
          },
          "metadata": {
            "tags": [],
            "needs_background": "light"
          }
        },
        {
          "output_type": "display_data",
          "data": {
            "image/png": "[encoded data removed]",
            "text/plain": [
              "<Figure size 432x288 with 1 Axes>"
            ]
          },
          "metadata": {
            "tags": [],
            "needs_background": "light"
          }
        }
      ]
    },
    {
      "cell_type": "markdown",
      "metadata": {
        "id": "z9idX6yeGw9r"
      },
      "source": [
        "# Model Evaluation"
      ]
    },
    {
      "cell_type": "code",
      "metadata": {
        "colab": {
          "base_uri": "https://localhost:8080/"
        },
        "id": "hXpsXmu8Gw9r",
        "outputId": "dcb7e41e-7629-42cc-9d6f-8b6ae27610b2"
      },
      "source": [
        "test_loss, test_acc = model.evaluate_generator(test_generator, steps=20)"
      ],
      "execution_count": 21,
      "outputs": [
        {
          "output_type": "stream",
          "text": [
            "/usr/local/lib/python3.7/dist-packages/tensorflow/python/keras/engine/training.py:1877: UserWarning: `Model.evaluate_generator` is deprecated and will be removed in a future version. Please use `Model.evaluate`, which supports generators.\n",
            "  warnings.warn('`Model.evaluate_generator` is deprecated and '\n"
          ],
          "name": "stderr"
        },
        {
          "output_type": "stream",
          "text": [
            "WARNING:tensorflow:Your input ran out of data; interrupting training. Make sure that your dataset or generator can generate at least `steps_per_epoch * epochs` batches (in this case, 20 batches). You may need to use the repeat() function when building your dataset.\n"
          ],
          "name": "stdout"
        }
      ]
    },
    {
      "cell_type": "code",
      "metadata": {
        "colab": {
          "base_uri": "https://localhost:8080/"
        },
        "id": "uGvNJyOWGw9s",
        "outputId": "876bf6b3-f7e1-42b9-94c7-2f7e2d6ab130"
      },
      "source": [
        "print(\"Test Accuracy : \",test_acc,'or', round(test_acc*100, 2),'%')\n",
        "print(\"Test Loss : \",test_loss,'or', round(test_loss*100, 2),'%')"
      ],
      "execution_count": 22,
      "outputs": [
        {
          "output_type": "stream",
          "text": [
            "Test Accuracy :  0.9076305031776428 or 90.76 %\n",
            "Test Loss :  0.25535139441490173 or 25.54 %\n"
          ],
          "name": "stdout"
        }
      ]
    },
    {
      "cell_type": "code",
      "metadata": {
        "colab": {
          "base_uri": "https://localhost:8080/"
        },
        "id": "OW0cwq5Uc9RM",
        "outputId": "c8c77b62-f627-4748-a76c-cb3a73435e06"
      },
      "source": [
        "test_generator = ImageDataGenerator()\n",
        "test_data_generator = test_generator.flow_from_directory(\n",
        "    test_dir,\n",
        "     target_size=target_size,\n",
        "    batch_size=32,\n",
        "    shuffle=False)\n",
        "test_steps_per_epoch = np.math.ceil(test_data_generator.samples / test_data_generator.batch_size)\n",
        "\n",
        "predictions = model.predict_generator(test_data_generator, steps=test_steps_per_epoch)\n",
        "# Get most likely class\n",
        "predicted_classes = np.argmax(predictions, axis=1)"
      ],
      "execution_count": 34,
      "outputs": [
        {
          "output_type": "stream",
          "text": [
            "Found 249 images belonging to 2 classes.\n"
          ],
          "name": "stdout"
        },
        {
          "output_type": "stream",
          "text": [
            "/usr/local/lib/python3.7/dist-packages/tensorflow/python/keras/engine/training.py:1905: UserWarning: `Model.predict_generator` is deprecated and will be removed in a future version. Please use `Model.predict`, which supports generators.\n",
            "  warnings.warn('`Model.predict_generator` is deprecated and '\n"
          ],
          "name": "stderr"
        }
      ]
    },
    {
      "cell_type": "code",
      "metadata": {
        "id": "WDBfDV4CeINj"
      },
      "source": [
        "true_classes = test_data_generator.classes\n",
        "class_labels = list(test_data_generator.class_indices.keys())   "
      ],
      "execution_count": 35,
      "outputs": []
    },
    {
      "cell_type": "code",
      "metadata": {
        "colab": {
          "base_uri": "https://localhost:8080/"
        },
        "id": "IcdZQeFYKgHS",
        "outputId": "9df558cc-5696-4b27-904c-edf9d2fbc4db"
      },
      "source": [
        "report = metrics.classification_report(true_classes, predicted_classes, target_names=class_labels)\n",
        "print(report) "
      ],
      "execution_count": 36,
      "outputs": [
        {
          "output_type": "stream",
          "text": [
            "              precision    recall  f1-score   support\n",
            "\n",
            "      Normal       0.81      1.00      0.90       202\n",
            "       Stone       0.00      0.00      0.00        47\n",
            "\n",
            "    accuracy                           0.81       249\n",
            "   macro avg       0.41      0.50      0.45       249\n",
            "weighted avg       0.66      0.81      0.73       249\n",
            "\n"
          ],
          "name": "stdout"
        },
        {
          "output_type": "stream",
          "text": [
            "/usr/local/lib/python3.7/dist-packages/sklearn/metrics/_classification.py:1272: UndefinedMetricWarning: Precision and F-score are ill-defined and being set to 0.0 in labels with no predicted samples. Use `zero_division` parameter to control this behavior.\n",
            "  _warn_prf(average, modifier, msg_start, len(result))\n"
          ],
          "name": "stderr"
        }
      ]
    },
    {
      "cell_type": "markdown",
      "metadata": {
        "id": "YCGMVB-HrEYV"
      },
      "source": [
        "#Testing Modeling Prediction by Random Image"
      ]
    },
    {
      "cell_type": "code",
      "metadata": {
        "colab": {
          "base_uri": "https://localhost:8080/",
          "height": 283
        },
        "id": "trH_TcftrPTw",
        "outputId": "7e763b33-b320-47db-8f4b-eb4763f1c6a5"
      },
      "source": [
        "from PIL import Image\n",
        "img = Image.open('/content/drive/MyDrive/Colab Notebooks/Datasets/Image Dataset/Test Images/image2.JPG')\n",
        "#img = Image.open('/content/drive/MyDrive/Colab Notebooks/Datasets/Image Dataset/Train/Normal_aug/augmented_image_1.jpg')\n",
        "plt.imshow(img)"
      ],
      "execution_count": null,
      "outputs": [
        {
          "output_type": "execute_result",
          "data": {
            "text/plain": [
              "<matplotlib.image.AxesImage at 0x7ff75ec9d048>"
            ]
          },
          "metadata": {
            "tags": []
          },
          "execution_count": 27
        },
        {
          "output_type": "display_data",
          "data": {
            "image/png": "[encoded data removed]",
            "text/plain": [
              "<Figure size 432x288 with 1 Axes>"
            ]
          },
          "metadata": {
            "tags": [],
            "needs_background": "light"
          }
        }
      ]
    },
    {
      "cell_type": "code",
      "metadata": {
        "colab": {
          "base_uri": "https://localhost:8080/",
          "height": 1000
        },
        "id": "hrSd10LpsrSf",
        "outputId": "6451b052-39ac-4aab-dcc6-f77c688bf6dc"
      },
      "source": [
        "import cv2\n",
        "\n",
        "img_array = np.asarray(img)\n",
        "resized = cv2.resize(img_array, (200, 200 ))\n",
        "plt.imshow(resized)\n",
        "print(resized)\n",
        "resized.shape"
      ],
      "execution_count": null,
      "outputs": [
        {
          "output_type": "stream",
          "text": [
            "[[[  1   1   1]\n",
            "  [  1   1   1]\n",
            "  [  1   1   1]\n",
            "  ...\n",
            "  [  1   1   1]\n",
            "  [  5   5   5]\n",
            "  [110 110 110]]\n",
            "\n",
            " [[  1   1   1]\n",
            "  [  1   1   1]\n",
            "  [  1   1   1]\n",
            "  ...\n",
            "  [  1   1   1]\n",
            "  [  5   5   5]\n",
            "  [110 110 110]]\n",
            "\n",
            " [[  1   1   1]\n",
            "  [  1   1   1]\n",
            "  [  1   1   1]\n",
            "  ...\n",
            "  [  1   1   1]\n",
            "  [  5   5   5]\n",
            "  [110 110 110]]\n",
            "\n",
            " ...\n",
            "\n",
            " [[ 71  71  71]\n",
            "  [ 71  71  71]\n",
            "  [ 71  71  71]\n",
            "  ...\n",
            "  [ 70  70  70]\n",
            "  [ 74  74  74]\n",
            "  [150 150 150]]\n",
            "\n",
            " [[158 158 158]\n",
            "  [158 158 158]\n",
            "  [158 158 158]\n",
            "  ...\n",
            "  [158 158 158]\n",
            "  [161 161 161]\n",
            "  [176 176 176]]\n",
            "\n",
            " [[116 116 116]\n",
            "  [116 116 116]\n",
            "  [116 116 116]\n",
            "  ...\n",
            "  [116 116 116]\n",
            "  [116 116 116]\n",
            "  [116 116 116]]]\n"
          ],
          "name": "stdout"
        },
        {
          "output_type": "execute_result",
          "data": {
            "text/plain": [
              "(200, 200, 3)"
            ]
          },
          "metadata": {
            "tags": []
          },
          "execution_count": 28
        },
        {
          "output_type": "display_data",
          "data": {
            "image/png": "[encoded data removed]",
            "text/plain": [
              "<Figure size 432x288 with 1 Axes>"
            ]
          },
          "metadata": {
            "tags": [],
            "needs_background": "light"
          }
        }
      ]
    },
    {
      "cell_type": "code",
      "metadata": {
        "colab": {
          "base_uri": "https://localhost:8080/"
        },
        "id": "DF7vpuvKuZnD",
        "outputId": "3b49821f-3723-444e-a7ae-2d77a4ebf186"
      },
      "source": [
        "resized = resized / 255\n",
        "resized.reshape(200, 200, 3)\n",
        "image=[]\n",
        "image.append(resized)\n",
        "new=np.asarray(image)\n",
        "new.ndim"
      ],
      "execution_count": null,
      "outputs": [
        {
          "output_type": "execute_result",
          "data": {
            "text/plain": [
              "4"
            ]
          },
          "metadata": {
            "tags": []
          },
          "execution_count": 29
        }
      ]
    },
    {
      "cell_type": "code",
      "metadata": {
        "colab": {
          "base_uri": "https://localhost:8080/"
        },
        "id": "5Ci42FMTBC99",
        "outputId": "c3f1e913-a6ad-4114-9b73-b4c862d40ff0"
      },
      "source": [
        "prediction = model.predict_classes(new)\n",
        "print(\"predicted result:\", str(prediction))"
      ],
      "execution_count": null,
      "outputs": [
        {
          "output_type": "stream",
          "text": [
            "predicted result: [[1]]\n"
          ],
          "name": "stdout"
        },
        {
          "output_type": "stream",
          "text": [
            "/usr/local/lib/python3.6/dist-packages/tensorflow/python/keras/engine/sequential.py:450: UserWarning: `model.predict_classes()` is deprecated and will be removed after 2021-01-01. Please use instead:* `np.argmax(model.predict(x), axis=-1)`,   if your model does multi-class classification   (e.g. if it uses a `softmax` last-layer activation).* `(model.predict(x) > 0.5).astype(\"int32\")`,   if your model does binary classification   (e.g. if it uses a `sigmoid` last-layer activation).\n",
            "  warnings.warn('`model.predict_classes()` is deprecated and '\n"
          ],
          "name": "stderr"
        }
      ]
    },
    {
      "cell_type": "code",
      "metadata": {
        "id": "hclA0srTBRsQ"
      },
      "source": [
        "import tensorflow as tf\n",
        "from tensorflow import keras\n",
        "\n",
        "new0model=tf.keras.models.load_model('/content/drive/MyDrive/Colab Notebooks/Datasets/Image Dataset/model.h5')\n"
      ],
      "execution_count": null,
      "outputs": []
    },
    {
      "cell_type": "code",
      "metadata": {
        "colab": {
          "base_uri": "https://localhost:8080/"
        },
        "id": "uEIoaaZ0DN3P",
        "outputId": "0e155285-bd52-448f-b39f-c0b16ac93c17"
      },
      "source": [
        "prediction = new0model.predict_classes(new)\n",
        "print(\"predicted result:\", str(prediction))"
      ],
      "execution_count": null,
      "outputs": [
        {
          "output_type": "stream",
          "text": [
            "predicted result: [[1]]\n"
          ],
          "name": "stdout"
        },
        {
          "output_type": "stream",
          "text": [
            "/usr/local/lib/python3.6/dist-packages/tensorflow/python/keras/engine/sequential.py:450: UserWarning: `model.predict_classes()` is deprecated and will be removed after 2021-01-01. Please use instead:* `np.argmax(model.predict(x), axis=-1)`,   if your model does multi-class classification   (e.g. if it uses a `softmax` last-layer activation).* `(model.predict(x) > 0.5).astype(\"int32\")`,   if your model does binary classification   (e.g. if it uses a `sigmoid` last-layer activation).\n",
            "  warnings.warn('`model.predict_classes()` is deprecated and '\n"
          ],
          "name": "stderr"
        }
      ]
    },
    {
      "cell_type": "code",
      "metadata": {
        "id": "xStyGK46DSXk"
      },
      "source": [
        "def image_processing(image_path):\n",
        "    #     path = r'C:\\Users\\GM\\Desktop\\Prediction Images\\AUG_0_1.jpeg'\n",
        "    path = image_path\n",
        "    print(\"path\",path)\n",
        "\n",
        "\n",
        "    image = Image.open(path)\n",
        "\n",
        "    # summarize some details about the image\n",
        "\n",
        "    print(image.format)\n",
        "    print(image.mode)\n",
        "    print(image.size)\n",
        "    # show the image\n",
        "    # image.show()\n",
        "    # plt.imshow(image)\n",
        "    # Image Enhancer\n",
        "   # fig = plt.figure(figsize=(8, 8))\n",
        "    # image brightness enhancer\n",
        "    enhancer = ImageEnhance.Brightness(image)\n",
        "    factor = 1  # gives original image\n",
        "    im_output = enhancer.enhance(factor)\n",
        "    factor = 0.5  # darkens the image\n",
        "    im_output = enhancer.enhance(factor)\n",
        "    factor = 1.5  # brightens the image\n",
        "    im_output = enhancer.enhance(factor)\n",
        "\n",
        "    # image segmentation\n",
        "    img = cv2.imread(path)\n",
        "    print(\"test5\")\n",
        "    dim = (224, 224)\n",
        "    img = cv2.resize(img, dim, interpolation=cv2.INTER_AREA)\n",
        "\n",
        "    print(\"Image Size: \", img.shape)\n",
        "\n",
        "    # global thresholding\n",
        "    ret1, th1 = cv2.threshold(img, 127, 255, cv2.THRESH_BINARY)\n",
        "\n",
        "    # Otsu's thresholding\n",
        "\n",
        "   # ret2, th2 = cv2.threshold(img, 0, 255, cv2.THRESH_BINARY + cv2.THRESH_OTSU)\n",
        "\n",
        "    # Otsu's thresholding after Gaussian filtering\n",
        "    img = cv2.cvtColor(img, cv2.COLOR_BGR2GRAY)\n",
        "    blur = cv2.GaussianBlur(img, (5, 5), 0)\n",
        "    ret3, th3 = cv2.threshold(blur, 0, 255, cv2.THRESH_BINARY + cv2.THRESH_OTSU)\n",
        "\n",
        "    # Feature Extration\n",
        "    # fig = plt.figure(figsize=(8, 8))\n",
        "    # fig.add_subplot(1, 3, 1)\n",
        "    # plt.imshow(th2)\n",
        "\n",
        "    # fig.add_subplot(1, 3, 2)\n",
        "    # plt.imshow(th2)\n",
        "\n",
        "    # fig.add_subplot(1, 3, 3)\n",
        "    # plt.imshow(blur)\n",
        "\n",
        "    # Edge Detection\n",
        "    edges = cv2.Canny(img, 50, 100)\n",
        "\n",
        "    # Calculating Area\n",
        "    # this method will grab the contours\n",
        "    def grab_contours(cnts):\n",
        "\n",
        "        # OpenCV v2.4, v4-official\n",
        "        if len(cnts) == 2:\n",
        "            return cnts[0]\n",
        "        # OpenCV v3\n",
        "        elif len(cnts) == 3:\n",
        "            return cnts[1]\n",
        "\n",
        "    cnts = cv2.findContours(edges.copy(), cv2.RETR_EXTERNAL, cv2.CHAIN_APPROX_SIMPLE)\n",
        "    cnts = grab_contours(cnts)\n",
        "\n",
        "    contours = cnts\n",
        "\n",
        "    # Approximate contours to polygons + get bounding rects and circles\n",
        "    contours_poly = [None] * len(contours)\n",
        "    centers = [None] * len(contours)\n",
        "    radius = [None] * len(contours)\n",
        "    for i, c in enumerate(contours):\n",
        "        contours_poly[i] = cv2.approxPolyDP(c, 3, True)\n",
        "        centers[i], radius[i] = cv2.minEnclosingCircle(contours_poly[i])\n",
        "\n",
        "    try:\n",
        "\n",
        "        max_cnt = None\n",
        "        max_len = 0\n",
        "\n",
        "        c = None\n",
        "        center = None\n",
        "        rad = None\n",
        "\n",
        "        for cc, ccenter, rrad in zip(cnts, centers, radius):\n",
        "            if len(cc) > max_len:\n",
        "                c = cc\n",
        "                center = ccenter\n",
        "                rad = rrad\n",
        "                max_len = len(cc)\n",
        "\n",
        "        #     print(cv2.contourArea(c))\n",
        "        area = cv2.contourArea(c)\n",
        "        cv2.drawContours(image=img, contours=[c], contourIdx=0, color=(255, 0, 0), thickness=1, maxLevel=0)\n",
        "        cv2.circle(img, (int(center[0]), int(center[1])), int(rad), (255, 0, 0), 2)\n",
        "\n",
        "    #     plt.imshow(img)\n",
        "\n",
        "    except:\n",
        "        print(\"Not Melonoma\")\n",
        "\n",
        "    # CALCULATING Perimetre\n",
        "    perimeter = cv2.arcLength(c, True)\n",
        "    # calculating center coordinates\n",
        "    center_coordinates = (int(center[0]), int(center[1]))\n",
        "    radius = 2\n",
        "    color = (255, 255, 255)\n",
        "    thickness = 1\n",
        "\n",
        "    img = cv2.circle(img, center_coordinates, radius, color, thickness)\n",
        "\n",
        "    # calculating GD and SD\n",
        "    count = 1\n",
        "    distances = []\n",
        "\n",
        "    for x1, y1 in zip(edges.nonzero()[0], edges.nonzero()[1]):\n",
        "        x2 = center_coordinates[0]\n",
        "        y2 = center_coordinates[1]\n",
        "\n",
        "        if x2 == x1:\n",
        "            continue;\n",
        "\n",
        "        slope = round((y2 - y1) / (x2 - x1), 5)\n",
        "\n",
        "        lengths = []\n",
        "\n",
        "        for xx1, yy1 in zip(edges.nonzero()[0], edges.nonzero()[1]):\n",
        "            if (x2 == xx1):\n",
        "                continue\n",
        "\n",
        "            m = round((y2 - yy1) / (x2 - xx1), 5);\n",
        "\n",
        "            if slope == m:\n",
        "                lengths.append(((xx1, yy1)))\n",
        "                img = cv2.line(img, (x1, y1), (x2, y2), (255, 255, 0), thickness=1)\n",
        "\n",
        "        maxDist = 0\n",
        "\n",
        "        for i in range(len(lengths)):\n",
        "            p1 = lengths[i]\n",
        "            for j in range(i + 1, len(lengths)):\n",
        "                p2 = lengths[j]\n",
        "\n",
        "                x1 = p1[0]\n",
        "                y1 = p1[1]\n",
        "                x2 = p2[0]\n",
        "                y2 = p2[1]\n",
        "\n",
        "                dist = math.sqrt((x2 - x1) ** 2 + (y2 - y1) ** 2)\n",
        "                if dist > maxDist:\n",
        "                    maxDist = dist\n",
        "\n",
        "        distances.append(maxDist);\n",
        "        print(\"Calculating distances...\" + str(count), end=\"\\r\")\n",
        "        count += 1\n",
        "\n",
        "    distances = np.array(distances)\n",
        "    distances = distances[distances > (max(distances) / 1.5)]\n",
        "\n",
        "    GD = max(distances)\n",
        "    SD = min(distances)\n",
        "\n",
        "    # Calculating A (0-2) for ABCD Formula\n",
        "    A1 = area / SD\n",
        "    A2 = area / GD\n",
        "    A = (A1 + A2)\n",
        "    # Calculating B (0-8)\n",
        "    B = perimeter / GD\n",
        "    ### Calculating C (1-6)\n",
        "    C = (perimeter * ((1 / SD) - (1 / GD)))\n",
        "    ### Calculating D (1-5)\n",
        "\n",
        "    # converting to mm\n",
        "    D = (GD - SD) / 10\n",
        "    # classification\n",
        "\n",
        "    TDS = (A * 1.3) + (B * 0.1) + (C * 0.5) + (D * 0.5)\n",
        "\n",
        "    print(\"TDS: \", TDS)\n",
        "\n",
        "    #         if TDS < 4.75 :\n",
        "    #             print(\"Benign melanocytic lesion\")\n",
        "    #         elif TDS > 4.8 and TDS < 5.45:\n",
        "    #             print(\"Suspicious lesion; close follow-up or excision recommended\")\n",
        "    #         else:\n",
        "    #             print(\"Lesion highly suggestive of melanoma\")\n",
        "    return TDS"
      ],
      "execution_count": null,
      "outputs": []
    },
    {
      "cell_type": "code",
      "metadata": {
        "colab": {
          "base_uri": "https://localhost:8080/"
        },
        "id": "-jh195vVYnev",
        "outputId": "300306f8-c10d-4ce5-a857-13f3d1f3c624"
      },
      "source": [
        "image_processing('/content/drive/MyDrive/Colab Notebooks/Datasets/Image Dataset/Test Images/image1.jpg')"
      ],
      "execution_count": null,
      "outputs": [
        {
          "output_type": "stream",
          "text": [
            "path /content/drive/MyDrive/Colab Notebooks/Datasets/Image Dataset/Test Images/image1.jpg\n",
            "JPEG\n",
            "RGB\n",
            "(243, 346)\n",
            "test5\n",
            "Image Size:  (224, 224, 3)\n",
            "TDS:  7.461292113261411\n"
          ],
          "name": "stdout"
        },
        {
          "output_type": "execute_result",
          "data": {
            "text/plain": [
              "7.461292113261411"
            ]
          },
          "metadata": {
            "tags": []
          },
          "execution_count": 12
        }
      ]
    }
  ]
}